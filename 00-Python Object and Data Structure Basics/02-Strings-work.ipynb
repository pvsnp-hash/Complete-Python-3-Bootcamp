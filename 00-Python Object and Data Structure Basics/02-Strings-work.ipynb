{
  "nbformat": 4,
  "nbformat_minor": 0,
  "metadata": {
    "kernelspec": {
      "display_name": "Python 3",
      "language": "python",
      "name": "python3"
    },
    "language_info": {
      "codemirror_mode": {
        "name": "ipython",
        "version": 3
      },
      "file_extension": ".py",
      "mimetype": "text/x-python",
      "name": "python",
      "nbconvert_exporter": "python",
      "pygments_lexer": "ipython3",
      "version": "3.6.6"
    },
    "colab": {
      "name": "02-Strings.ipynb",
      "provenance": []
    }
  },
  "cells": [
    {
      "cell_type": "markdown",
      "metadata": {
        "id": "YBZMLgyLhh_t"
      },
      "source": [
        "___\n",
        "\n",
        "<a href='https://www.udemy.com/user/joseportilla/'><img src='https://github.com/pvsnp-hash/Complete-Python-3-Bootcamp/blob/master/Pierian_Data_Logo.png?raw=1'/></a>\n",
        "___\n",
        "<center><em>Content Copyright by Pierian Data</em></center>"
      ]
    },
    {
      "cell_type": "markdown",
      "metadata": {
        "id": "k6Q5IEGehh_x"
      },
      "source": [
        "# Strings"
      ]
    },
    {
      "cell_type": "markdown",
      "metadata": {
        "id": "RHGIBOUEhh_x"
      },
      "source": [
        "Strings are used in Python to record text information, such as names. Strings in Python are actually a *sequence*, which basically means Python keeps track of every element in the string as a sequence. For example, Python understands the string \"hello' to be a sequence of letters in a specific order. This means we will be able to use indexing to grab particular letters (like the first letter, or the last letter).\n",
        "\n",
        "This idea of a sequence is an important one in Python and we will touch upon it later on in the future.\n",
        "\n",
        "In this lecture we'll learn about the following:\n",
        "\n",
        "    1.) Creating Strings\n",
        "    2.) Printing Strings\n",
        "    3.) String Indexing and Slicing\n",
        "    4.) String Properties\n",
        "    5.) String Methods\n",
        "    6.) Print Formatting"
      ]
    },
    {
      "cell_type": "markdown",
      "metadata": {
        "id": "u0v5QjKthh_y"
      },
      "source": [
        "## Creating a String\n",
        "To create a string in Python you need to use either single quotes or double quotes. For example:"
      ]
    },
    {
      "cell_type": "code",
      "metadata": {
        "id": "pC3Po-5thh_y",
        "outputId": "82a70561-e9ae-429f-f4c2-471557079d57"
      },
      "source": [
        "# Single word\n",
        "'hello'"
      ],
      "execution_count": null,
      "outputs": [
        {
          "output_type": "execute_result",
          "data": {
            "text/plain": [
              "'hello'"
            ]
          },
          "metadata": {
            "tags": []
          },
          "execution_count": 1
        }
      ]
    },
    {
      "cell_type": "code",
      "metadata": {
        "id": "YxFYoHyMhh_y",
        "outputId": "dc9b3551-46e6-41e7-d8c7-91fa60a4d565"
      },
      "source": [
        "# Entire phrase \n",
        "'This is also a string'"
      ],
      "execution_count": null,
      "outputs": [
        {
          "output_type": "execute_result",
          "data": {
            "text/plain": [
              "'This is also a string'"
            ]
          },
          "metadata": {
            "tags": []
          },
          "execution_count": 2
        }
      ]
    },
    {
      "cell_type": "code",
      "metadata": {
        "id": "4UFQBrokhh_y",
        "outputId": "db711441-fafe-4356-fff8-906969ef37c3"
      },
      "source": [
        "# We can also use double quote\n",
        "\"String built with double quotes\""
      ],
      "execution_count": null,
      "outputs": [
        {
          "output_type": "execute_result",
          "data": {
            "text/plain": [
              "'String built with double quotes'"
            ]
          },
          "metadata": {
            "tags": []
          },
          "execution_count": 3
        }
      ]
    },
    {
      "cell_type": "code",
      "metadata": {
        "id": "hFNGtJ0hhh_z",
        "outputId": "07a21e1b-0a3a-4836-c278-902758b613b0"
      },
      "source": [
        "# Be careful with quotes!\n",
        "' I'm using single quotes, but this will create an error'"
      ],
      "execution_count": null,
      "outputs": [
        {
          "output_type": "error",
          "ename": "SyntaxError",
          "evalue": "invalid syntax (<ipython-input-4-da9a34b3dc31>, line 2)",
          "traceback": [
            "\u001b[1;36m  File \u001b[1;32m\"<ipython-input-4-da9a34b3dc31>\"\u001b[1;36m, line \u001b[1;32m2\u001b[0m\n\u001b[1;33m    ' I'm using single quotes, but this will create an error'\u001b[0m\n\u001b[1;37m        ^\u001b[0m\n\u001b[1;31mSyntaxError\u001b[0m\u001b[1;31m:\u001b[0m invalid syntax\n"
          ]
        }
      ]
    },
    {
      "cell_type": "markdown",
      "metadata": {
        "id": "hs8pD7FQhh_z"
      },
      "source": [
        "The reason for the error above is because the single quote in <code>I'm</code> stopped the string. You can use combinations of double and single quotes to get the complete statement."
      ]
    },
    {
      "cell_type": "code",
      "metadata": {
        "id": "Zy31Jm4Zhh_z",
        "outputId": "54cb3ec7-23ee-414e-edea-00f251dcdd60"
      },
      "source": [
        "\"Now I'm ready to use the single quotes inside a string!\""
      ],
      "execution_count": null,
      "outputs": [
        {
          "output_type": "execute_result",
          "data": {
            "text/plain": [
              "\"Now I'm ready to use the single quotes inside a string!\""
            ]
          },
          "metadata": {
            "tags": []
          },
          "execution_count": 5
        }
      ]
    },
    {
      "cell_type": "markdown",
      "metadata": {
        "id": "mXhsOiYQhh_z"
      },
      "source": [
        "Now let's learn about printing strings!"
      ]
    },
    {
      "cell_type": "markdown",
      "metadata": {
        "id": "rDh05-r1hh_z"
      },
      "source": [
        "## Printing a String\n",
        "\n",
        "Using Jupyter notebook with just a string in a cell will automatically output strings, but the correct way to display strings in your output is by using a print function."
      ]
    },
    {
      "cell_type": "code",
      "metadata": {
        "id": "Wb53tWdJhh_0",
        "outputId": "a6a9b302-2049-4d0f-a325-68513410773f"
      },
      "source": [
        "# We can simply declare a string\n",
        "'Hello World'"
      ],
      "execution_count": null,
      "outputs": [
        {
          "output_type": "execute_result",
          "data": {
            "text/plain": [
              "'Hello World'"
            ]
          },
          "metadata": {
            "tags": []
          },
          "execution_count": 6
        }
      ]
    },
    {
      "cell_type": "code",
      "metadata": {
        "id": "ivcmqLkDhh_0",
        "outputId": "f2dea44d-88a8-44f4-f3a8-669d6ca3cfc7"
      },
      "source": [
        "# Note that we can't output multiple strings this way\n",
        "'Hello World 1'\n",
        "'Hello World 2'"
      ],
      "execution_count": null,
      "outputs": [
        {
          "output_type": "execute_result",
          "data": {
            "text/plain": [
              "'Hello World 2'"
            ]
          },
          "metadata": {
            "tags": []
          },
          "execution_count": 7
        }
      ]
    },
    {
      "cell_type": "markdown",
      "metadata": {
        "id": "-wNREW0ohh_0"
      },
      "source": [
        "We can use a print statement to print a string."
      ]
    },
    {
      "cell_type": "code",
      "metadata": {
        "id": "f4uT685Bhh_0",
        "outputId": "db33573e-b31b-4f93-85cb-cc92e7b4b500"
      },
      "source": [
        "print('Hello World 1')\n",
        "print('Hello World 2')\n",
        "print('Use \\n to print a new line')\n",
        "print('\\n')\n",
        "print('See what I mean?')"
      ],
      "execution_count": null,
      "outputs": [
        {
          "output_type": "stream",
          "text": [
            "Hello World 1\n",
            "Hello World 2\n",
            "Use \n",
            " to print a new line\n",
            "\n",
            "\n",
            "See what I mean?\n"
          ],
          "name": "stdout"
        }
      ]
    },
    {
      "cell_type": "markdown",
      "metadata": {
        "id": "eYZdGihZhh_1"
      },
      "source": [
        "## String Basics"
      ]
    },
    {
      "cell_type": "markdown",
      "metadata": {
        "id": "DJfsdYDKhh_1"
      },
      "source": [
        "We can also use a function called len() to check the length of a string!"
      ]
    },
    {
      "cell_type": "code",
      "metadata": {
        "id": "p6A8DHSZhh_1",
        "outputId": "dc2bbd44-cb59-4ec9-a338-48d64e7dd0a1"
      },
      "source": [
        "len('Hello World')"
      ],
      "execution_count": null,
      "outputs": [
        {
          "output_type": "execute_result",
          "data": {
            "text/plain": [
              "11"
            ]
          },
          "metadata": {
            "tags": []
          },
          "execution_count": 9
        }
      ]
    },
    {
      "cell_type": "markdown",
      "metadata": {
        "id": "56HBFnTThh_1"
      },
      "source": [
        "Python's built-in len() function counts all of the characters in the string, including spaces and punctuation."
      ]
    },
    {
      "cell_type": "markdown",
      "metadata": {
        "id": "yzElIuRKhh_2"
      },
      "source": [
        "## String Indexing\n",
        "We know strings are a sequence, which means Python can use indexes to call parts of the sequence. Let's learn how this works.\n",
        "\n",
        "In Python, we use brackets <code>[]</code> after an object to call its index. We should also note that indexing starts at 0 for Python. Let's create a new object called <code>s</code> and then walk through a few examples of indexing."
      ]
    },
    {
      "cell_type": "code",
      "metadata": {
        "collapsed": true,
        "id": "ZZzJ1eqLhh_2"
      },
      "source": [
        "# Assign s as a string\n",
        "s = 'Hello World'"
      ],
      "execution_count": null,
      "outputs": []
    },
    {
      "cell_type": "code",
      "metadata": {
        "id": "PVijTEekhh_2",
        "outputId": "0f0374f7-c250-47f9-b68d-16c302037cb4"
      },
      "source": [
        "#Check\n",
        "s"
      ],
      "execution_count": null,
      "outputs": [
        {
          "output_type": "execute_result",
          "data": {
            "text/plain": [
              "'Hello World'"
            ]
          },
          "metadata": {
            "tags": []
          },
          "execution_count": 11
        }
      ]
    },
    {
      "cell_type": "code",
      "metadata": {
        "id": "vMb05BSwhh_2",
        "outputId": "36288946-e5c6-46ad-bf66-4a9a8f9d1ccb"
      },
      "source": [
        "# Print the object\n",
        "print(s) "
      ],
      "execution_count": null,
      "outputs": [
        {
          "output_type": "stream",
          "text": [
            "Hello World\n"
          ],
          "name": "stdout"
        }
      ]
    },
    {
      "cell_type": "markdown",
      "metadata": {
        "id": "jUDsVDa4hh_2"
      },
      "source": [
        "Let's start indexing!"
      ]
    },
    {
      "cell_type": "code",
      "metadata": {
        "id": "HhxlJB3mhh_2",
        "outputId": "61135c24-46b8-4f7f-a81f-97a3db690a1e"
      },
      "source": [
        "# Show first element (in this case a letter)\n",
        "s[0]"
      ],
      "execution_count": null,
      "outputs": [
        {
          "output_type": "execute_result",
          "data": {
            "text/plain": [
              "'H'"
            ]
          },
          "metadata": {
            "tags": []
          },
          "execution_count": 13
        }
      ]
    },
    {
      "cell_type": "code",
      "metadata": {
        "id": "LaSu7yyghh_3",
        "outputId": "a6ca2f69-0ada-4673-aa47-874adec2f7ce"
      },
      "source": [
        "s[1]"
      ],
      "execution_count": null,
      "outputs": [
        {
          "output_type": "execute_result",
          "data": {
            "text/plain": [
              "'e'"
            ]
          },
          "metadata": {
            "tags": []
          },
          "execution_count": 14
        }
      ]
    },
    {
      "cell_type": "code",
      "metadata": {
        "id": "F0OYxW0Phh_3",
        "outputId": "649b5818-a056-43a2-de22-3221307e96f1"
      },
      "source": [
        "s[2]"
      ],
      "execution_count": null,
      "outputs": [
        {
          "output_type": "execute_result",
          "data": {
            "text/plain": [
              "'l'"
            ]
          },
          "metadata": {
            "tags": []
          },
          "execution_count": 15
        }
      ]
    },
    {
      "cell_type": "markdown",
      "metadata": {
        "id": "dYXDqOxthh_3"
      },
      "source": [
        "We can use a <code>:</code> to perform *slicing* which grabs everything up to a designated point. For example:"
      ]
    },
    {
      "cell_type": "code",
      "metadata": {
        "id": "5iGnpFe8hh_3",
        "outputId": "e591b97a-94e8-4c0f-eba1-6dcb63098839"
      },
      "source": [
        "# Grab everything past the first term all the way to the length of s which is len(s)\n",
        "s[1:]"
      ],
      "execution_count": null,
      "outputs": [
        {
          "output_type": "execute_result",
          "data": {
            "text/plain": [
              "'ello World'"
            ]
          },
          "metadata": {
            "tags": []
          },
          "execution_count": 16
        }
      ]
    },
    {
      "cell_type": "code",
      "metadata": {
        "id": "t8Gix4xJhh_3",
        "outputId": "2c21faa4-d742-4e34-b3db-4358977320b4"
      },
      "source": [
        "# Note that there is no change to the original s\n",
        "s"
      ],
      "execution_count": null,
      "outputs": [
        {
          "output_type": "execute_result",
          "data": {
            "text/plain": [
              "'Hello World'"
            ]
          },
          "metadata": {
            "tags": []
          },
          "execution_count": 17
        }
      ]
    },
    {
      "cell_type": "code",
      "metadata": {
        "id": "8XGZ5EWBhh_4",
        "outputId": "0a9c8735-87a2-4eb0-ff91-954b58d77f33"
      },
      "source": [
        "# Grab everything UP TO the 3rd index\n",
        "s[:3]"
      ],
      "execution_count": null,
      "outputs": [
        {
          "output_type": "execute_result",
          "data": {
            "text/plain": [
              "'Hel'"
            ]
          },
          "metadata": {
            "tags": []
          },
          "execution_count": 18
        }
      ]
    },
    {
      "cell_type": "markdown",
      "metadata": {
        "id": "NTarXA3uhh_4"
      },
      "source": [
        "Note the above slicing. Here we're telling Python to grab everything from 0 up to 3. It doesn't include the 3rd index. You'll notice this a lot in Python, where statements and are usually in the context of \"up to, but not including\"."
      ]
    },
    {
      "cell_type": "code",
      "metadata": {
        "id": "c1LUG60vhh_4",
        "outputId": "ea1aafc8-b704-4ac0-d141-b2273892e95c"
      },
      "source": [
        "#Everything\n",
        "s[:]"
      ],
      "execution_count": null,
      "outputs": [
        {
          "output_type": "execute_result",
          "data": {
            "text/plain": [
              "'Hello World'"
            ]
          },
          "metadata": {
            "tags": []
          },
          "execution_count": 19
        }
      ]
    },
    {
      "cell_type": "markdown",
      "metadata": {
        "id": "WWtR_aKuhh_5"
      },
      "source": [
        "We can also use negative indexing to go backwards."
      ]
    },
    {
      "cell_type": "code",
      "metadata": {
        "id": "542jT-L8hh_7",
        "outputId": "235ee43d-21a9-4fb7-aeb6-916ae30aeb57"
      },
      "source": [
        "# Last letter (one index behind 0 so it loops back around)\n",
        "s[-1]"
      ],
      "execution_count": null,
      "outputs": [
        {
          "output_type": "execute_result",
          "data": {
            "text/plain": [
              "'d'"
            ]
          },
          "metadata": {
            "tags": []
          },
          "execution_count": 20
        }
      ]
    },
    {
      "cell_type": "code",
      "metadata": {
        "id": "INxJo_iJhh_7",
        "outputId": "e10bd128-edfa-4c66-e2de-7c1cbbb7cc67"
      },
      "source": [
        "# Grab everything but the last letter\n",
        "s[:-1]"
      ],
      "execution_count": null,
      "outputs": [
        {
          "output_type": "execute_result",
          "data": {
            "text/plain": [
              "'Hello Worl'"
            ]
          },
          "metadata": {
            "tags": []
          },
          "execution_count": 21
        }
      ]
    },
    {
      "cell_type": "markdown",
      "metadata": {
        "id": "B1tpFvH9hh_8"
      },
      "source": [
        "We can also use index and slice notation to grab elements of a sequence by a specified step size (the default is 1). For instance we can use two colons in a row and then a number specifying the frequency to grab elements. For example:"
      ]
    },
    {
      "cell_type": "code",
      "metadata": {
        "id": "PHA31Ok5hh_8",
        "outputId": "948ac3df-d043-44e2-aae1-e99a1f451611"
      },
      "source": [
        "# Grab everything, but go in steps size of 1\n",
        "s[::1]"
      ],
      "execution_count": null,
      "outputs": [
        {
          "output_type": "execute_result",
          "data": {
            "text/plain": [
              "'Hello World'"
            ]
          },
          "metadata": {
            "tags": []
          },
          "execution_count": 22
        }
      ]
    },
    {
      "cell_type": "code",
      "metadata": {
        "id": "Cg9zbLGahh_9",
        "outputId": "7577b4cb-bdc1-4a77-d6a2-20404f382f4c"
      },
      "source": [
        "# Grab everything, but go in step sizes of 2\n",
        "s[::2]"
      ],
      "execution_count": null,
      "outputs": [
        {
          "output_type": "execute_result",
          "data": {
            "text/plain": [
              "'HloWrd'"
            ]
          },
          "metadata": {
            "tags": []
          },
          "execution_count": 23
        }
      ]
    },
    {
      "cell_type": "code",
      "metadata": {
        "id": "44rfkGEzhh_9",
        "outputId": "43530c28-f11a-4f6d-cd7a-6f9518e15f24"
      },
      "source": [
        "# We can use this to print a string backwards\n",
        "s[::-1]"
      ],
      "execution_count": null,
      "outputs": [
        {
          "output_type": "execute_result",
          "data": {
            "text/plain": [
              "'dlroW olleH'"
            ]
          },
          "metadata": {
            "tags": []
          },
          "execution_count": 24
        }
      ]
    },
    {
      "cell_type": "markdown",
      "metadata": {
        "collapsed": true,
        "id": "2mtrxsUEhh_9"
      },
      "source": [
        "## String Properties\n",
        "It's important to note that strings have an important property known as *immutability*. This means that once a string is created, the elements within it can not be changed or replaced. For example:"
      ]
    },
    {
      "cell_type": "code",
      "metadata": {
        "id": "S-2nXJXahh_9",
        "outputId": "3491d65a-86c9-4abe-9c21-d4ce85c0c91c"
      },
      "source": [
        "s"
      ],
      "execution_count": null,
      "outputs": [
        {
          "output_type": "execute_result",
          "data": {
            "text/plain": [
              "'Hello World'"
            ]
          },
          "metadata": {
            "tags": []
          },
          "execution_count": 25
        }
      ]
    },
    {
      "cell_type": "code",
      "metadata": {
        "id": "gxrs6uAwhh_9",
        "outputId": "aea206c3-c19b-4596-cc99-4c9c18b188bb"
      },
      "source": [
        "# Let's try to change the first letter to 'x'\n",
        "s[0] = 'x'"
      ],
      "execution_count": null,
      "outputs": [
        {
          "output_type": "error",
          "ename": "TypeError",
          "evalue": "'str' object does not support item assignment",
          "traceback": [
            "\u001b[1;31m---------------------------------------------------------------------------\u001b[0m",
            "\u001b[1;31mTypeError\u001b[0m                                 Traceback (most recent call last)",
            "\u001b[1;32m<ipython-input-26-976942677f11>\u001b[0m in \u001b[0;36m<module>\u001b[1;34m()\u001b[0m\n\u001b[0;32m      1\u001b[0m \u001b[1;31m# Let's try to change the first letter to 'x'\u001b[0m\u001b[1;33m\u001b[0m\u001b[1;33m\u001b[0m\u001b[0m\n\u001b[1;32m----> 2\u001b[1;33m \u001b[0ms\u001b[0m\u001b[1;33m[\u001b[0m\u001b[1;36m0\u001b[0m\u001b[1;33m]\u001b[0m \u001b[1;33m=\u001b[0m \u001b[1;34m'x'\u001b[0m\u001b[1;33m\u001b[0m\u001b[0m\n\u001b[0m",
            "\u001b[1;31mTypeError\u001b[0m: 'str' object does not support item assignment"
          ]
        }
      ]
    },
    {
      "cell_type": "markdown",
      "metadata": {
        "id": "APlqnJnPhh_9"
      },
      "source": [
        "Notice how the error tells us directly what we can't do, change the item assignment!\n",
        "\n",
        "Something we *can* do is concatenate strings!"
      ]
    },
    {
      "cell_type": "code",
      "metadata": {
        "id": "il1vjB2Nhh_-",
        "outputId": "621a1a47-62bb-40f1-f166-5c35a6055b7f"
      },
      "source": [
        "s"
      ],
      "execution_count": null,
      "outputs": [
        {
          "output_type": "execute_result",
          "data": {
            "text/plain": [
              "'Hello World'"
            ]
          },
          "metadata": {
            "tags": []
          },
          "execution_count": 27
        }
      ]
    },
    {
      "cell_type": "code",
      "metadata": {
        "id": "ocGAjZzwhh_-",
        "outputId": "405acbd9-d5e6-4138-e67f-bd848cf8a876"
      },
      "source": [
        "# Concatenate strings!\n",
        "s + ' concatenate me!'"
      ],
      "execution_count": null,
      "outputs": [
        {
          "output_type": "execute_result",
          "data": {
            "text/plain": [
              "'Hello World concatenate me!'"
            ]
          },
          "metadata": {
            "tags": []
          },
          "execution_count": 28
        }
      ]
    },
    {
      "cell_type": "code",
      "metadata": {
        "collapsed": true,
        "id": "wYvzR5hIhh__"
      },
      "source": [
        "# We can reassign s completely though!\n",
        "s = s + ' concatenate me!'"
      ],
      "execution_count": null,
      "outputs": []
    },
    {
      "cell_type": "code",
      "metadata": {
        "id": "AaNURCpHhh__",
        "outputId": "8d2d3b0b-566c-4155-94b5-f1ed14517666"
      },
      "source": [
        "print(s)"
      ],
      "execution_count": null,
      "outputs": [
        {
          "output_type": "stream",
          "text": [
            "Hello World concatenate me!\n"
          ],
          "name": "stdout"
        }
      ]
    },
    {
      "cell_type": "code",
      "metadata": {
        "id": "g89idTjZhh__",
        "outputId": "93d22b7d-30b7-4b72-c0d8-1e686c48f3c0"
      },
      "source": [
        "s"
      ],
      "execution_count": null,
      "outputs": [
        {
          "output_type": "execute_result",
          "data": {
            "text/plain": [
              "'Hello World concatenate me!'"
            ]
          },
          "metadata": {
            "tags": []
          },
          "execution_count": 31
        }
      ]
    },
    {
      "cell_type": "markdown",
      "metadata": {
        "id": "b9GTwjDNhh__"
      },
      "source": [
        "We can use the multiplication symbol to create repetition!"
      ]
    },
    {
      "cell_type": "code",
      "metadata": {
        "collapsed": true,
        "id": "CUT8KG0Fhh__"
      },
      "source": [
        "letter = 'z'"
      ],
      "execution_count": null,
      "outputs": []
    },
    {
      "cell_type": "code",
      "metadata": {
        "id": "RwXhLpjQhh__",
        "outputId": "d8f4c854-1532-454a-851f-29b3f571f54e"
      },
      "source": [
        "letter*10"
      ],
      "execution_count": null,
      "outputs": [
        {
          "output_type": "execute_result",
          "data": {
            "text/plain": [
              "'zzzzzzzzzz'"
            ]
          },
          "metadata": {
            "tags": []
          },
          "execution_count": 33
        }
      ]
    },
    {
      "cell_type": "markdown",
      "metadata": {
        "id": "58TIELkdhh__"
      },
      "source": [
        "## Basic Built-in String methods\n",
        "\n",
        "Objects in Python usually have built-in methods. These methods are functions inside the object (we will learn about these in much more depth later) that can perform actions or commands on the object itself.\n",
        "\n",
        "We call methods with a period and then the method name. Methods are in the form:\n",
        "\n",
        "object.method(parameters)\n",
        "\n",
        "Where parameters are extra arguments we can pass into the method. Don't worry if the details don't make 100% sense right now. Later on we will be creating our own objects and functions!\n",
        "\n",
        "Here are some examples of built-in methods in strings:"
      ]
    },
    {
      "cell_type": "code",
      "metadata": {
        "id": "rLTQ_tuFhh__",
        "outputId": "e02f7069-03db-43e1-98b5-f9b21719c238"
      },
      "source": [
        "s"
      ],
      "execution_count": null,
      "outputs": [
        {
          "output_type": "execute_result",
          "data": {
            "text/plain": [
              "'Hello World concatenate me!'"
            ]
          },
          "metadata": {
            "tags": []
          },
          "execution_count": 34
        }
      ]
    },
    {
      "cell_type": "code",
      "metadata": {
        "id": "WGLktl3chh__",
        "outputId": "4aa62588-4da6-481a-a097-de1745c3c267"
      },
      "source": [
        "# Upper Case a string\n",
        "s.upper()"
      ],
      "execution_count": null,
      "outputs": [
        {
          "output_type": "execute_result",
          "data": {
            "text/plain": [
              "'HELLO WORLD CONCATENATE ME!'"
            ]
          },
          "metadata": {
            "tags": []
          },
          "execution_count": 35
        }
      ]
    },
    {
      "cell_type": "code",
      "metadata": {
        "id": "_-fc4CnChh__",
        "outputId": "dcf8bd2c-2419-499e-f753-a883e1477892"
      },
      "source": [
        "# Lower case\n",
        "s.lower()"
      ],
      "execution_count": null,
      "outputs": [
        {
          "output_type": "execute_result",
          "data": {
            "text/plain": [
              "'hello world concatenate me!'"
            ]
          },
          "metadata": {
            "tags": []
          },
          "execution_count": 36
        }
      ]
    },
    {
      "cell_type": "code",
      "metadata": {
        "id": "bTx-uHfehh__",
        "outputId": "1f962817-ec09-4969-91a2-ffd4f4540234"
      },
      "source": [
        "# Split a string by blank space (this is the default)\n",
        "s.split()"
      ],
      "execution_count": null,
      "outputs": [
        {
          "output_type": "execute_result",
          "data": {
            "text/plain": [
              "['Hello', 'World', 'concatenate', 'me!']"
            ]
          },
          "metadata": {
            "tags": []
          },
          "execution_count": 37
        }
      ]
    },
    {
      "cell_type": "code",
      "metadata": {
        "id": "3pSi2MU5hh__",
        "outputId": "d57764e8-dca5-4abb-c1a8-1a61f1a4d033"
      },
      "source": [
        "# Split by a specific element (doesn't include the element that was split on)\n",
        "s.split('W')"
      ],
      "execution_count": null,
      "outputs": [
        {
          "output_type": "execute_result",
          "data": {
            "text/plain": [
              "['Hello ', 'orld concatenate me!']"
            ]
          },
          "metadata": {
            "tags": []
          },
          "execution_count": 38
        }
      ]
    },
    {
      "cell_type": "markdown",
      "metadata": {
        "id": "COzVTDaPhiAA"
      },
      "source": [
        "There are many more methods than the ones covered here. Visit the Advanced String section to find out more!"
      ]
    },
    {
      "cell_type": "markdown",
      "metadata": {
        "id": "6vM5Ued_hiAA"
      },
      "source": [
        "## Print Formatting\n",
        "\n",
        "We can use the .format() method to add formatted objects to printed string statements. \n",
        "\n",
        "The easiest way to show this is through an example:"
      ]
    },
    {
      "cell_type": "code",
      "metadata": {
        "id": "YE5IEmAahiAA",
        "outputId": "9deda3e4-26f1-42ad-8639-37da37606148"
      },
      "source": [
        "'Insert another string with curly brackets: {}'.format('The inserted string')"
      ],
      "execution_count": null,
      "outputs": [
        {
          "output_type": "execute_result",
          "data": {
            "text/plain": [
              "'Insert another string with curly brackets: The inserted string'"
            ]
          },
          "metadata": {
            "tags": []
          },
          "execution_count": 39
        }
      ]
    },
    {
      "cell_type": "markdown",
      "metadata": {
        "id": "zMKLonP3hiAA"
      },
      "source": [
        "We will revisit this string formatting topic in later sections when we are building our projects!"
      ]
    },
    {
      "cell_type": "markdown",
      "metadata": {
        "id": "mJpAr5CdhiAA"
      },
      "source": [
        "## Next up: Lists!"
      ]
    }
  ]
}